{
 "cells": [
  {
   "cell_type": "markdown",
   "metadata": {},
   "source": [
    "### 확률적 경사 하강법"
   ]
  },
  {
   "cell_type": "code",
   "execution_count": null,
   "metadata": {},
   "outputs": [],
   "source": [
    "# Stochastic Gradient Descent\n",
    "\n",
    "class SGD:\n",
    "    \n",
    "    def __init__(self, lr = 0.01):\n",
    "        \n",
    "        self.lr = lr\n",
    "        \n",
    "        \n",
    "    def update(self, params, grads):\n",
    "        \n",
    "        for key in params.keys():\n",
    "            \n",
    "            params[key] -= self.lr * grads[key]"
   ]
  },
  {
   "cell_type": "markdown",
   "metadata": {},
   "source": [
    "### SGD의 단점: 비등방성(anisotropy) 함수에서 탐색 경로가 비효율적\n",
    "- ex. '홀로그램' 과 같이 특정한 방향으로 보면 평소와 다른 성질이 보이는 경우\n",
    "\n",
    "#### SGD의 대안, Momentum, AdaGrad, Adam\n",
    "#### Ref: https://light-tree.tistory.com/140  // https://tensorflow.blog/2017/03/22/momentum-nesterov-momentum/ // https://jjeongil.tistory.com/999\n"
   ]
  },
  {
   "cell_type": "code",
   "execution_count": null,
   "metadata": {},
   "outputs": [],
   "source": []
  }
 ],
 "metadata": {
  "kernelspec": {
   "display_name": "Python 3",
   "language": "python",
   "name": "python3"
  },
  "language_info": {
   "codemirror_mode": {
    "name": "ipython",
    "version": 3
   },
   "file_extension": ".py",
   "mimetype": "text/x-python",
   "name": "python",
   "nbconvert_exporter": "python",
   "pygments_lexer": "ipython3",
   "version": "3.7.0"
  }
 },
 "nbformat": 4,
 "nbformat_minor": 4
}
