{
 "cells": [
  {
   "cell_type": "markdown",
   "metadata": {},
   "source": [
    "### Weight_initialization을 모두 균일한 값으로 설정하는 경우"
   ]
  },
  {
   "cell_type": "code",
   "execution_count": 7,
   "metadata": {},
   "outputs": [],
   "source": [
    "import sys, os\n",
    "sys.path.append('C:\\\\Users\\\\mb910\\\\deep-learning-from-scratch')\n",
    "import numpy as np\n",
    "# from dataset.mnist import load_mnist\n",
    "from ch05.two_layer_net import TwoLayerNet\n",
    "import matplotlib.pyplot as plt\n",
    "from common.layers import *"
   ]
  },
  {
   "cell_type": "markdown",
   "metadata": {},
   "source": [
    "##### 1. 표준편차가 0.01인 정규분포를 따를 때, '모델의 정확도'와 'Parameter' 확인"
   ]
  },
  {
   "cell_type": "code",
   "execution_count": 2,
   "metadata": {
    "scrolled": false
   },
   "outputs": [
    {
     "name": "stdout",
     "output_type": "stream",
     "text": [
      "0th_ 훈련 데이터 정확도:0.10361666666666666, 테스트 데이터 정확도: 0.1023 \n",
      "\n",
      "--------------------- \n",
      "\n",
      "600th_ 훈련 데이터 정확도:0.9004833333333333, 테스트 데이터 정확도: 0.9069 \n",
      "\n",
      "--------------------- \n",
      "\n",
      "1200th_ 훈련 데이터 정확도:0.9239333333333334, 테스트 데이터 정확도: 0.9286 \n",
      "\n",
      "--------------------- \n",
      "\n",
      "1800th_ 훈련 데이터 정확도:0.9335166666666667, 테스트 데이터 정확도: 0.9341 \n",
      "\n",
      "--------------------- \n",
      "\n",
      "2400th_ 훈련 데이터 정확도:0.9440666666666667, 테스트 데이터 정확도: 0.9453 \n",
      "\n",
      "--------------------- \n",
      "\n",
      "3000th_ 훈련 데이터 정확도:0.9505, 테스트 데이터 정확도: 0.9479 \n",
      "\n",
      "--------------------- \n",
      "\n",
      "3600th_ 훈련 데이터 정확도:0.9572, 테스트 데이터 정확도: 0.9552 \n",
      "\n",
      "--------------------- \n",
      "\n",
      "4200th_ 훈련 데이터 정확도:0.9603, 테스트 데이터 정확도: 0.9589 \n",
      "\n",
      "--------------------- \n",
      "\n",
      "4800th_ 훈련 데이터 정확도:0.9648666666666667, 테스트 데이터 정확도: 0.9591 \n",
      "\n",
      "--------------------- \n",
      "\n",
      "5400th_ 훈련 데이터 정확도:0.9678, 테스트 데이터 정확도: 0.9626 \n",
      "\n",
      "--------------------- \n",
      "\n",
      "6000th_ 훈련 데이터 정확도:0.9691666666666666, 테스트 데이터 정확도: 0.9637 \n",
      "\n",
      "--------------------- \n",
      "\n",
      "6600th_ 훈련 데이터 정확도:0.97265, 테스트 데이터 정확도: 0.9652 \n",
      "\n",
      "--------------------- \n",
      "\n",
      "7200th_ 훈련 데이터 정확도:0.97365, 테스트 데이터 정확도: 0.9663 \n",
      "\n",
      "--------------------- \n",
      "\n",
      "7800th_ 훈련 데이터 정확도:0.9756166666666667, 테스트 데이터 정확도: 0.9681 \n",
      "\n",
      "--------------------- \n",
      "\n",
      "8400th_ 훈련 데이터 정확도:0.9762833333333333, 테스트 데이터 정확도: 0.9682 \n",
      "\n",
      "--------------------- \n",
      "\n",
      "9000th_ 훈련 데이터 정확도:0.97875, 테스트 데이터 정확도: 0.9693 \n",
      "\n",
      "--------------------- \n",
      "\n",
      "9600th_ 훈련 데이터 정확도:0.97965, 테스트 데이터 정확도: 0.9688 \n",
      "\n",
      "--------------------- \n",
      "\n"
     ]
    }
   ],
   "source": [
    "(X_train, t_train), (X_test, t_test) = load_mnist( normalize = True, one_hot_label = True )\n",
    "network = TwoLayerNet( input_size = 784, hidden_size = 50, output_size = 10 )\n",
    "\n",
    "iters_num = 10000\n",
    "train_size = X_train.shape[0]\n",
    "batch_size = 100\n",
    "learning_rate = 0.1\n",
    "\n",
    "train_loss_list = []\n",
    "train_acc_list = []\n",
    "test_acc_list = []\n",
    "\n",
    "iter_per_epoch = max( train_size / batch_size, 1 )\n",
    "\n",
    "for i in range( iters_num ):\n",
    "    \n",
    "    batch_mask = np.random.choice( train_size, batch_size )\n",
    "    X_batch = X_train[ batch_mask ]\n",
    "    t_batch = t_train[ batch_mask ]\n",
    "    \n",
    "    grad = network.gradient(X_batch, t_batch)\n",
    "    \n",
    "    for key in ('W1', 'b1', 'W2', 'b2'):\n",
    "        \n",
    "        network.params[key] -= learning_rate * grad[key]\n",
    "        \n",
    "        loss = network.loss(X_batch, t_batch)\n",
    "        train_loss_list.append(loss)\n",
    "        \n",
    "    if i % iter_per_epoch == 0:\n",
    "        \n",
    "        train_acc = network.accuracy(X_train, t_train)\n",
    "        test_acc = network.accuracy(X_test, t_test)\n",
    "        train_acc_list.append(train_acc)\n",
    "        test_acc_list.append(test_acc)\n",
    "        print(f'{i}th_ 훈련 데이터 정확도:{train_acc}, 테스트 데이터 정확도: {test_acc}', '\\n')\n",
    "        print('---------------------', '\\n')"
   ]
  },
  {
   "cell_type": "markdown",
   "metadata": {},
   "source": [
    "#### weight 값이 모두 0일 경우"
   ]
  },
  {
   "cell_type": "code",
   "execution_count": 3,
   "metadata": {},
   "outputs": [
    {
     "name": "stdout",
     "output_type": "stream",
     "text": [
      "0th_ 훈련 데이터 정확도:0.0591, 테스트 데이터 정확도: 0.0593\n",
      "--------------------- \n",
      "\n",
      "600th_ 훈련 데이터 정확도:0.0591, 테스트 데이터 정확도: 0.0593\n",
      "--------------------- \n",
      "\n",
      "1200th_ 훈련 데이터 정확도:0.0591, 테스트 데이터 정확도: 0.0593\n",
      "--------------------- \n",
      "\n",
      "1800th_ 훈련 데이터 정확도:0.0591, 테스트 데이터 정확도: 0.0593\n",
      "--------------------- \n",
      "\n",
      "2400th_ 훈련 데이터 정확도:0.0591, 테스트 데이터 정확도: 0.0593\n",
      "--------------------- \n",
      "\n",
      "3000th_ 훈련 데이터 정확도:0.0591, 테스트 데이터 정확도: 0.0593\n",
      "--------------------- \n",
      "\n",
      "3600th_ 훈련 데이터 정확도:0.0591, 테스트 데이터 정확도: 0.0593\n",
      "--------------------- \n",
      "\n",
      "4200th_ 훈련 데이터 정확도:0.0591, 테스트 데이터 정확도: 0.0593\n",
      "--------------------- \n",
      "\n",
      "4800th_ 훈련 데이터 정확도:0.0591, 테스트 데이터 정확도: 0.0593\n",
      "--------------------- \n",
      "\n",
      "5400th_ 훈련 데이터 정확도:0.0591, 테스트 데이터 정확도: 0.0593\n",
      "--------------------- \n",
      "\n",
      "6000th_ 훈련 데이터 정확도:0.0591, 테스트 데이터 정확도: 0.0593\n",
      "--------------------- \n",
      "\n",
      "6600th_ 훈련 데이터 정확도:0.0591, 테스트 데이터 정확도: 0.0593\n",
      "--------------------- \n",
      "\n",
      "7200th_ 훈련 데이터 정확도:0.0591, 테스트 데이터 정확도: 0.0593\n",
      "--------------------- \n",
      "\n",
      "7800th_ 훈련 데이터 정확도:0.0591, 테스트 데이터 정확도: 0.0593\n",
      "--------------------- \n",
      "\n",
      "8400th_ 훈련 데이터 정확도:0.0591, 테스트 데이터 정확도: 0.0593\n",
      "--------------------- \n",
      "\n",
      "9000th_ 훈련 데이터 정확도:0.0591, 테스트 데이터 정확도: 0.0593\n",
      "--------------------- \n",
      "\n",
      "9600th_ 훈련 데이터 정확도:0.0591, 테스트 데이터 정확도: 0.0593\n",
      "--------------------- \n",
      "\n"
     ]
    }
   ],
   "source": [
    "network2 = TwoLayerNet( input_size = 784, hidden_size = 50, output_size = 10 )\n",
    "\n",
    "for key in network2.params.keys():\n",
    "    network2.params[ key ] = np.zeros_like( network2.params[ key ] )\n",
    "    \n",
    "\n",
    "iters_num = 10000\n",
    "train_size = X_train.shape[0]\n",
    "batch_size = 100\n",
    "learning_rate = 0.1\n",
    "\n",
    "train_loss_list = []\n",
    "train_acc_list = []\n",
    "test_acc_list = []\n",
    "\n",
    "iter_per_epoch = max( train_size / batch_size, 1 )\n",
    "\n",
    "for i in range( iters_num ):\n",
    "    \n",
    "    batch_mask = np.random.choice( train_size, batch_size )\n",
    "    X_batch = X_train[ batch_mask ]\n",
    "    t_batch = t_train[ batch_mask ]\n",
    "    \n",
    "    grad = network2.gradient(X_batch, t_batch)\n",
    "    \n",
    "    for key in ('W1', 'b1', 'W2', 'b2'):\n",
    "        \n",
    "        network2.params[key] -= learning_rate * grad[key]\n",
    "        \n",
    "        loss = network2.loss(X_batch, t_batch)\n",
    "        train_loss_list.append(loss)\n",
    "        \n",
    "    if i % iter_per_epoch == 0:\n",
    "        \n",
    "        train_acc = network2.accuracy(X_train, t_train)\n",
    "        test_acc = network2.accuracy(X_test, t_test)\n",
    "        train_acc_list.append(train_acc)\n",
    "        test_acc_list.append(test_acc)\n",
    "        print(f'{i}th_ 훈련 데이터 정확도:{train_acc}, 테스트 데이터 정확도: {test_acc}')\n",
    "        print('---------------------', '\\n')"
   ]
  },
  {
   "cell_type": "markdown",
   "metadata": {},
   "source": [
    "### 은닉층의 활성화값 ( Activation Function: Sigmoid ) 분포 "
   ]
  },
  {
   "cell_type": "code",
   "execution_count": 16,
   "metadata": {},
   "outputs": [
    {
     "data": {
      "image/png": "[encoded data removed]",
      "text/plain": [
       "<Figure size 720x216 with 5 Axes>"
      ]
     },
     "metadata": {
      "needs_background": "light"
     },
     "output_type": "display_data"
    }
   ],
   "source": [
    "def sigmoid(x):\n",
    "    \n",
    "    return 1 / ( 1 + np.exp(-x) )\n",
    "\n",
    "\n",
    "def tanh(x):\n",
    "    \n",
    "    return ( np.exp(x) - np.exp(-x) ) / ( np.exp(x) + np.exp(-x) )\n",
    "\n",
    "def Relu(x):\n",
    "    \n",
    "    mask = (x <= 0)\n",
    "    out = x.copy()\n",
    "    out[mask] = 0\n",
    "    \n",
    "    return out\n",
    "\n",
    "\n",
    "x = np.random.randn(1000, 100)\n",
    "node_num = 100\n",
    "hidden_layer_size = 5\n",
    "activations = {}\n",
    "weight_std = 1 / np.sqrt(node_num) # or 'Nom_std' = [1, 0.1, ...]\n",
    "\n",
    "f, ax= plt.subplots(1, 5, figsize = (10,3))\n",
    "\n",
    "for i in range(hidden_layer_size):\n",
    "    \n",
    "    if i != 0:\n",
    "\n",
    "        x = activations[ i-1 ]\n",
    "\n",
    "    w = np.random.randn(node_num, node_num) * weight_std\n",
    "    a = np.dot(x, w)\n",
    "    z = Relu( a )\n",
    "    activations[i] = z\n",
    "\n",
    "for i, a in activations.items():\n",
    "\n",
    "    ax[i].hist( a.flatten(), 30, range = (0,1) )\n",
    "    ax[i].set_title( str(i+1) + \"-layer\" )\n",
    "    ax[i].set_ylim(top = 7000)\n",
    "    f.tight_layout()    \n"
   ]
  },
  {
   "cell_type": "markdown",
   "metadata": {},
   "source": [
    "### ReLU 사용 시 가중치 초깃값 - He 초깃값"
   ]
  },
  {
   "cell_type": "code",
   "execution_count": 110,
   "metadata": {
    "scrolled": false
   },
   "outputs": [
    {
     "data": {
      "image/png": "[encoded data removed]",
      "text/plain": [
       "<Figure size 720x216 with 5 Axes>"
      ]
     },
     "metadata": {
      "needs_background": "light"
     },
     "output_type": "display_data"
    }
   ],
   "source": [
    "x = np.random.randn(1000, 100)\n",
    "node_num = 100\n",
    "hidden_layer_size = 5\n",
    "activations = {}\n",
    "weight_std = np.sqrt( 2 / node_num ) # 'Xavier' =  or 'Nom_std' = [1, 0.1, ...]\n",
    "\n",
    "f, ax= plt.subplots(1, 5, figsize = (10,3))\n",
    "\n",
    "for i in range(hidden_layer_size):\n",
    "    \n",
    "    if i != 0:\n",
    "\n",
    "        x = activations[ i-1 ]\n",
    "\n",
    "    w = np.random.randn(node_num, node_num) * weight_std\n",
    "    a = np.dot(x, w)\n",
    "    z = Relu( a )\n",
    "    activations[i] = z\n",
    "\n",
    "for i, a in activations.items():\n",
    "\n",
    "    ax[i].hist( a.flatten(), 30, range = (0,1) )\n",
    "    ax[i].set_title( str(i+1) + \"-layer\" )\n",
    "    ax[i].set_ylim(top = 7000)\n",
    "    f.tight_layout()    \n"
   ]
  },
  {
   "cell_type": "markdown",
   "metadata": {},
   "source": [
    "#### MNIST 데이터를 이용한 가중치 초깃값 비교"
   ]
  },
  {
   "cell_type": "code",
   "execution_count": 3,
   "metadata": {},
   "outputs": [
    {
     "ename": "NameError",
     "evalue": "name 'load_mnist' is not defined",
     "output_type": "error",
     "traceback": [
      "\u001b[1;31m---------------------------------------------------------------------------\u001b[0m",
      "\u001b[1;31mNameError\u001b[0m                                 Traceback (most recent call last)",
      "\u001b[1;32m<ipython-input-3-74cddf7970ec>\u001b[0m in \u001b[0;36m<module>\u001b[1;34m\u001b[0m\n\u001b[1;32m----> 1\u001b[1;33m \u001b[1;33m(\u001b[0m\u001b[0mx_train\u001b[0m\u001b[1;33m,\u001b[0m \u001b[0mt_train\u001b[0m\u001b[1;33m)\u001b[0m\u001b[1;33m,\u001b[0m \u001b[1;33m(\u001b[0m\u001b[0mx_test\u001b[0m\u001b[1;33m,\u001b[0m \u001b[0mt_test\u001b[0m\u001b[1;33m)\u001b[0m \u001b[1;33m=\u001b[0m \u001b[0mload_mnist\u001b[0m\u001b[1;33m(\u001b[0m\u001b[0mnormalize\u001b[0m\u001b[1;33m=\u001b[0m\u001b[1;32mTrue\u001b[0m\u001b[1;33m)\u001b[0m\u001b[1;33m\u001b[0m\u001b[0m\n\u001b[0m\u001b[0;32m      2\u001b[0m \u001b[1;33m\u001b[0m\u001b[0m\n\u001b[0;32m      3\u001b[0m \u001b[0mtrain_size\u001b[0m \u001b[1;33m=\u001b[0m \u001b[0mx_train\u001b[0m\u001b[1;33m.\u001b[0m\u001b[0mshape\u001b[0m\u001b[1;33m[\u001b[0m\u001b[1;36m0\u001b[0m\u001b[1;33m]\u001b[0m\u001b[1;33m\u001b[0m\u001b[0m\n\u001b[0;32m      4\u001b[0m \u001b[0mbatch_size\u001b[0m \u001b[1;33m=\u001b[0m \u001b[1;36m128\u001b[0m\u001b[1;33m\u001b[0m\u001b[0m\n\u001b[0;32m      5\u001b[0m \u001b[0mmax_iterations\u001b[0m \u001b[1;33m=\u001b[0m \u001b[1;36m2000\u001b[0m\u001b[1;33m\u001b[0m\u001b[0m\n",
      "\u001b[1;31mNameError\u001b[0m: name 'load_mnist' is not defined"
     ]
    }
   ],
   "source": [
    "(x_train, t_train), (x_test, t_test) = load_mnist(normalize=True)\n",
    "\n",
    "train_size = x_train.shape[0]\n",
    "batch_size = 128\n",
    "max_iterations = 2000\n",
    "\n",
    "\n",
    "# 1. 실험용 설정==========\n",
    "weight_init_types = {'std=0.01': 0.01, 'Xavier': 'sigmoid', 'He': 'relu'}\n",
    "optimizer = SGD(lr=0.01)\n",
    "\n",
    "networks = {}\n",
    "train_loss = {}\n",
    "for key, weight_type in weight_init_types.items():\n",
    "    networks[key] = MultiLayerNet(input_size=784, hidden_size_list=[100, 100, 100, 100],\n",
    "                                  output_size=10, weight_init_std=weight_type)\n",
    "    train_loss[key] = []\n",
    "\n",
    "\n",
    "# 2. 훈련 시작==========\n",
    "for i in range(max_iterations):\n",
    "    batch_mask = np.random.choice(train_size, batch_size)\n",
    "    x_batch = x_train[batch_mask]\n",
    "    t_batch = t_train[batch_mask]\n",
    "    \n",
    "    for key in weight_init_types.keys():\n",
    "        grads = networks[key].gradient(x_batch, t_batch)\n",
    "        optimizer.update(networks[key].params, grads)\n",
    "    \n",
    "        loss = networks[key].loss(x_batch, t_batch)\n",
    "        train_loss[key].append(loss)\n",
    "    \n",
    "    if i % 100 == 0:\n",
    "        print(\"===========\" + \"iteration:\" + str(i) + \"===========\")\n",
    "        for key in weight_init_types.keys():\n",
    "            loss = networks[key].loss(x_batch, t_batch)\n",
    "            print(key + \":\" + str(loss))\n",
    "\n",
    "\n",
    "# 3. 그래프 그리기==========\n",
    "markers = {'std=0.01': 'o', 'Xavier': 's', 'He': 'D'}\n",
    "x = np.arange(max_iterations)\n",
    "for key in weight_init_types.keys():\n",
    "    plt.plot(x, smooth_curve(train_loss[key]), marker=markers[key], markevery=100, label=key)\n",
    "plt.xlabel(\"iterations\")\n",
    "plt.ylabel(\"loss\")\n",
    "plt.ylim(0, 2.5)\n",
    "plt.legend()\n",
    "plt.show()"
   ]
  },
  {
   "cell_type": "markdown",
   "metadata": {},
   "source": [
    "### 배치 정규화\n",
    "\n",
    "- ref: https://gaussian37.github.io/dl-concept-batchnorm/"
   ]
  },
  {
   "cell_type": "code",
   "execution_count": null,
   "metadata": {},
   "outputs": [],
   "source": []
  },
  {
   "cell_type": "code",
   "execution_count": null,
   "metadata": {},
   "outputs": [],
   "source": []
  }
 ],
 "metadata": {
  "kernelspec": {
   "display_name": "Python 3",
   "language": "python",
   "name": "python3"
  },
  "language_info": {
   "codemirror_mode": {
    "name": "ipython",
    "version": 3
   },
   "file_extension": ".py",
   "mimetype": "text/x-python",
   "name": "python",
   "nbconvert_exporter": "python",
   "pygments_lexer": "ipython3",
   "version": "3.7.0"
  }
 },
 "nbformat": 4,
 "nbformat_minor": 4
}
