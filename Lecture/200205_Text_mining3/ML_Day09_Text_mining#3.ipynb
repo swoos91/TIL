{
 "cells": [
  {
   "cell_type": "code",
   "execution_count": 2,
   "metadata": {},
   "outputs": [
    {
     "name": "stdout",
     "output_type": "stream",
     "text": [
      "2-gram: 0.7619047619047619 ['오늘', '강남', '남에', '에서', '서 ', ' 맛', '맛있', '는 ', ' 스', '스파', '파게', '게티', ' 먹', '먹었', '었다', '다.']\n"
     ]
    }
   ],
   "source": [
    "def ngram(s,num):\n",
    "    tmp0 = len(s) - num + 1\n",
    "    r=[]\n",
    "    for i in range(tmp0):\n",
    "        w = s[i:i+num]\n",
    "        r.append(w)\n",
    "        pass\n",
    "    return r\n",
    "\n",
    "def diff_ngram(ta,tb,tnum):\n",
    "    tmp1 = ngram(ta, tnum)\n",
    "    tmp2 = ngram(tb, tnum)\n",
    "    \n",
    "    cnt = 0\n",
    "    rs = []\n",
    "    for i in tmp1:\n",
    "        for j in tmp2:\n",
    "            if i==j:\n",
    "                cnt+=1\n",
    "                rs.append(i)\n",
    "                pass\n",
    "            pass\n",
    "        pass\n",
    "    return cnt / len(tmp1), rs\n",
    "\n",
    "\n",
    "a = '오늘 강남에서 맛있는 스파게티를 먹었다.'\n",
    "b = '강남에서 먹었던 오늘의 스파게티는 맛있었다.'\n",
    "\n",
    "# 2-gram\n",
    "r2, word2 = diff_ngram(a,b,2)\n",
    "print('2-gram:', r2, word2)"
   ]
  },
  {
   "cell_type": "markdown",
   "metadata": {},
   "source": [
    " "
   ]
  },
  {
   "cell_type": "markdown",
   "metadata": {},
   "source": [
    " "
   ]
  },
  {
   "cell_type": "markdown",
   "metadata": {},
   "source": [
    " "
   ]
  },
  {
   "cell_type": "markdown",
   "metadata": {},
   "source": [
    "# 마르코프체인을 이용한 문장 생성"
   ]
  },
  {
   "cell_type": "code",
   "execution_count": 4,
   "metadata": {},
   "outputs": [],
   "source": [
    "import codecs\n",
    "from bs4 import BeautifulSoup\n",
    "from konlpy.tag import Twitter\n",
    "import urllib.request  # 맞춤법 검사 용도, but 현재 막혀있음.\n",
    "import os, re, json, random"
   ]
  },
  {
   "cell_type": "code",
   "execution_count": 21,
   "metadata": {
    "scrolled": true
   },
   "outputs": [
    {
     "name": "stdout",
     "output_type": "stream",
     "text": [
      "요즘시국에관해서도말했다.\n",
      "-----\n",
      "농담도잘갔지.\n",
      "-----\n",
      "이번문제를어떻게해결하지못하고서화를반려로택한것사람들은와글바글떠들었다.\n",
      "-----\n"
     ]
    }
   ],
   "source": [
    "def make_dic(words):\n",
    "    dic = {}\n",
    "    tmp = ['@']\n",
    "    for word in words:\n",
    "        tmp.append(word)\n",
    "        if len(tmp)<3:\n",
    "            continue\n",
    "            pass\n",
    "        if len(tmp)>3:\n",
    "            tmp = tmp[1:]\n",
    "            pass\n",
    "        set_word3(dic,tmp)\n",
    "        if word=='.':\n",
    "            tmp=['@']\n",
    "            continue\n",
    "            pass\n",
    "        pass\n",
    "    return dic\n",
    "        \n",
    "\n",
    "def set_word3(dic, tmp_dic):\n",
    "    w1, w2, w3 = tmp_dic\n",
    "    # dic 구조에서 key값이 존재하는지 조사\n",
    "    if not w1 in dic:\n",
    "        dic[w1]={}\n",
    "    if not w2 in dic[w1]:\n",
    "        dic[w1][w2]={}\n",
    "    if not w3 in dic[w1][w2]:\n",
    "        dic[w1][w2][w3]=0\n",
    "        pass\n",
    "    dic[w1][w2][w3]+=1\n",
    "    \n",
    "\n",
    "def make_sentence(dic):\n",
    "    ret=[]\n",
    "    if not '@' in dic: return 'No dic'\n",
    "    top = dic['@']\n",
    "    w1 = word_choice(top)\n",
    "    w2 = word_choice(top[w1])\n",
    "    ret.append(w1)\n",
    "    ret.append(w2)\n",
    "    while True:\n",
    "        w3 = word_choice(dic[w1][w2])\n",
    "        ret.append(w3)\n",
    "        if w3 == '.': break\n",
    "        w1,w2 = w2,w3\n",
    "    sen = ''.join(ret)\n",
    "    return sen\n",
    "\n",
    "def word_choice(sel):\n",
    "    keys = sel.keys()\n",
    "    return random.choice(list(keys))\n",
    "\n",
    "\n",
    "toji_file = 'toji.txt'\n",
    "dict_file = 'markov-toji.json'\n",
    "if not os.path.exists(dict_file):\n",
    "    fp = codecs.open('BEXX0014.txt', encoding='utf-16')\n",
    "    soup = BeautifulSoup(fp, 'html.parser')\n",
    "    body = soup.select_one('text > body')\n",
    "    text = body.getText()\n",
    "    text = text.replace('…', '')\n",
    "    \n",
    "    #형태소 분석\n",
    "    \n",
    "    twitter = Twitter()\n",
    "    malist = twitter.pos(text, norm=True)\n",
    "    words = []\n",
    "    for word in malist:\n",
    "        if not word[1] in ['punctuation']:\n",
    "            words.append(word[0])\n",
    "            pass\n",
    "        if word[1] == '.':\n",
    "            words.append(word[0])\n",
    "            pass\n",
    "        pass\n",
    "    # 딕셔너리 생성\n",
    "    dic = make_dic(words)\n",
    "    json.dump(dic, open(dict_file, 'w', encoding='utf-8'))\n",
    "    pass\n",
    "else:\n",
    "    dic=json.load(open(dict_file, 'r'))\n",
    "    \n",
    "    \n",
    "# 문장 만들기\n",
    "for i in range(3):\n",
    "    s = make_sentence(dic)\n",
    "    print(s)\n",
    "    print('-----')\n",
    "    "
   ]
  }
 ],
 "metadata": {
  "kernelspec": {
   "display_name": "Python 3",
   "language": "python",
   "name": "python3"
  },
  "language_info": {
   "codemirror_mode": {
    "name": "ipython",
    "version": 3
   },
   "file_extension": ".py",
   "mimetype": "text/x-python",
   "name": "python",
   "nbconvert_exporter": "python",
   "pygments_lexer": "ipython3",
   "version": "3.7.4"
  }
 },
 "nbformat": 4,
 "nbformat_minor": 2
}
